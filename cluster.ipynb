{
 "cells": [
  {
   "cell_type": "code",
   "execution_count": null,
   "id": "26474593",
   "metadata": {},
   "outputs": [],
   "source": [
    "# Bibliotecas\n",
    "import pandas as pd\n",
    "from sklearn.preprocessing import MinMaxScaler\n",
    "import boto3\n",
    "import io\n",
    "import s3fs"
   ]
  },
  {
   "cell_type": "code",
   "execution_count": null,
   "id": "3c0acd06",
   "metadata": {},
   "outputs": [],
   "source": [
    "# S3 input\n",
    "bucket = 'seu-bucket'\n",
    "path_input = 'caminho/base_input.csv'\n",
    "s3_uri = f's3://{bucket}/{path_input}'\n",
    "\n",
    "df = pd.read_csv(s3_uri)"
   ]
  },
  {
   "cell_type": "markdown",
   "id": "0d30dd9a",
   "metadata": {},
   "source": [
    "🏗️ 3. Feature Engineering\n"
   ]
  },
  {
   "cell_type": "code",
   "execution_count": null,
   "id": "68511302",
   "metadata": {},
   "outputs": [],
   "source": [
    "# Recência\n",
    "df['recencia'] = df['dias_ultima_interacao'].apply(lambda x: 1 / (1 + x))\n",
    "\n",
    "# Modalidade binária\n",
    "df['pagamento_debito'] = df['modalidade_pagamento'].apply(lambda x: 1 if x == 'debito' else 0)\n",
    "\n",
    "# Faixa de atraso mapeada\n",
    "mapa_atraso = {'em dia': 0, '1-15 dias': 1, '16-60 dias': 2, '60+ dias': 3}\n",
    "df['faixa_atraso'] = df['faixa_atraso'].map(mapa_atraso)\n",
    "\n",
    "# Penalização por uso indevido da central\n",
    "df['penalizacao_acionamento'] = df['acionou_canal_para_servico_digital'].apply(lambda x: -0.1 if x == 1 else 0)"
   ]
  },
  {
   "cell_type": "markdown",
   "id": "7c9f7f26",
   "metadata": {},
   "source": [
    "📊 4. Normalização e Score"
   ]
  },
  {
   "cell_type": "code",
   "execution_count": null,
   "id": "eccc6741",
   "metadata": {},
   "outputs": [],
   "source": [
    "# Normalização\n",
    "variaveis = ['qtd_acessos_app', 'nivel_app', 'uso_whatsapp', 'diversidade_servicos',\n",
    "             'taxa_resolucao_digital', 'recencia', 'tempo_contrato_meses']\n",
    "scaler = MinMaxScaler()\n",
    "df_norm = pd.DataFrame(scaler.fit_transform(df[variaveis]), columns=[f'{v}_norm' for v in variaveis])\n",
    "df = pd.concat([df, df_norm], axis=1)\n",
    "\n",
    "# Cálculo do Score\n",
    "def calcular_score(linha):\n",
    "    if linha['parcela_em_aberto'] == 0:\n",
    "        return None\n",
    "    if linha['tipo_cliente'] == 'nao_correntista':\n",
    "        return max(0, min(1, 0.6 * linha['uso_whatsapp_norm'] +\n",
    "                               0.4 * linha['taxa_resolucao_digital_norm'] +\n",
    "                               linha['penalizacao_acionamento']))\n",
    "    else:\n",
    "        score = (\n",
    "            0.15 * linha['qtd_acessos_app_norm'] +\n",
    "            0.15 * linha['nivel_app_norm'] +\n",
    "            0.15 * linha['uso_whatsapp_norm'] +\n",
    "            0.15 * linha['diversidade_servicos_norm'] +\n",
    "            0.10 * linha['taxa_resolucao_digital_norm'] +\n",
    "            0.10 * linha['recencia_norm'] +\n",
    "            0.10 * linha['tempo_contrato_meses_norm'] +\n",
    "            0.05 * linha['pagamento_debito']\n",
    "        )\n",
    "        return max(0, min(1, score + linha['penalizacao_acionamento']))\n",
    "\n",
    "df['score_digital'] = df.apply(calcular_score, axis=1)\n",
    "\n",
    "# Classificação\n",
    "def classificar(score):\n",
    "    if pd.isnull(score):\n",
    "        return 'Sem necessidade'\n",
    "    elif score >= 0.7:\n",
    "        return 'Alto'\n",
    "    elif score >= 0.4:\n",
    "        return 'Médio'\n",
    "    else:\n",
    "        return 'Baixo'\n",
    "\n",
    "df['nivel_digitalizacao'] = df['score_digital'].apply(classificar)"
   ]
  },
  {
   "cell_type": "code",
   "execution_count": 1,
   "id": "48a6d91f",
   "metadata": {},
   "outputs": [
    {
     "ename": "NameError",
     "evalue": "name 'df' is not defined",
     "output_type": "error",
     "traceback": [
      "\u001b[31m---------------------------------------------------------------------------\u001b[39m",
      "\u001b[31mNameError\u001b[39m                                 Traceback (most recent call last)",
      "\u001b[36mCell\u001b[39m\u001b[36m \u001b[39m\u001b[32mIn[1]\u001b[39m\u001b[32m, line 1\u001b[39m\n\u001b[32m----> \u001b[39m\u001b[32m1\u001b[39m \u001b[43mdf\u001b[49m.head\n",
      "\u001b[31mNameError\u001b[39m: name 'df' is not defined"
     ]
    }
   ],
   "source": [
    "df.head"
   ]
  },
  {
   "cell_type": "code",
   "execution_count": null,
   "id": "0d671c11",
   "metadata": {},
   "outputs": [],
   "source": [
    "# Gravação\n",
    "path_output = 'caminho/digitalizacao_output.parquet'\n",
    "s3_uri_output = f's3://{bucket}/{path_output}'\n",
    "df.to_parquet(s3_uri_output, index=False)"
   ]
  }
 ],
 "metadata": {
  "kernelspec": {
   "display_name": "Python 3",
   "language": "python",
   "name": "python3"
  },
  "language_info": {
   "codemirror_mode": {
    "name": "ipython",
    "version": 3
   },
   "file_extension": ".py",
   "mimetype": "text/x-python",
   "name": "python",
   "nbconvert_exporter": "python",
   "pygments_lexer": "ipython3",
   "version": "3.13.4"
  }
 },
 "nbformat": 4,
 "nbformat_minor": 5
}
